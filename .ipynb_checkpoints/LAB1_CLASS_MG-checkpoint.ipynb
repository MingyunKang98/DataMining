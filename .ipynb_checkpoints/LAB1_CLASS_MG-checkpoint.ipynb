{
 "cells": [
  {
   "cell_type": "code",
   "execution_count": 5,
   "id": "50dd8ef4",
   "metadata": {},
   "outputs": [
    {
     "name": "stdout",
     "output_type": "stream",
     "text": [
      "Twinkle, twinkle, little star,\n",
      "\tHow I wonder what you are!\n",
      "\t\tUp above the world so high,\n",
      "\t\tLike a diamond in the sky.\n",
      "Twinkle, twinkle, little star,\n",
      "\tHow I wonder what you are!\n"
     ]
    }
   ],
   "source": [
    "print('Twinkle, twinkle, little star,')\n",
    "print('\\tHow I wonder what you are!')\n",
    "print('\\t\\tUp above the world so high,')\n",
    "print('\\t\\tLike a diamond in the sky.')\n",
    "print('Twinkle, twinkle, little star,')\n",
    "print('\\tHow I wonder what you are!')"
   ]
  },
  {
   "cell_type": "code",
   "execution_count": 6,
   "id": "a0380704",
   "metadata": {
    "scrolled": true
   },
   "outputs": [
    {
     "name": "stdout",
     "output_type": "stream",
     "text": [
      "Twinkle, twinkle, little star,\n",
      " \tHow I wonder what you are!\n",
      " \t\tUp above the world so high,\n",
      " \t\tLike a diamond in the sky.\n",
      " Twinkle, twinkle, little star,\n",
      " \tHow I wonder what you are!\n"
     ]
    }
   ],
   "source": [
    "print('Twinkle, twinkle, little star,\\n',\n",
    "\"\\tHow I wonder what you are!\\n\",\n",
    "\"\\t\\tUp above the world so high,\\n\",\n",
    "'\\t\\tLike a diamond in the sky.\\n',\n",
    "'Twinkle, twinkle, little star,\\n',\n",
    "'\\tHow I wonder what you are!')"
   ]
  },
  {
   "cell_type": "code",
   "execution_count": 7,
   "id": "10a5420c",
   "metadata": {
    "scrolled": true
   },
   "outputs": [
    {
     "name": "stdout",
     "output_type": "stream",
     "text": [
      "Twinkle, twinkle, little star,\n",
      "\tHow I wonder what you are!\n",
      "\t\tUp above the world so high,\n",
      "\t\tLike a diamond in the sky.\n",
      "Twinkle, twinkle, little star,\n",
      "\tHow I wonder what you are!\n"
     ]
    }
   ],
   "source": [
    "print(\"\"\"Twinkle, twinkle, little star,\n",
    "\\tHow I wonder what you are!\n",
    "\\t\\tUp above the world so high,\n",
    "\\t\\tLike a diamond in the sky.\n",
    "Twinkle, twinkle, little star,\n",
    "\\tHow I wonder what you are!\"\"\")"
   ]
  },
  {
   "cell_type": "markdown",
   "id": "fbf8be2f-aa9a-49fb-9d87-833afd44c1ec",
   "metadata": {},
   "source": [
    "# The customer requests a program that computes a person’s income tax. The tax laws are as follows: 수입에 따른 세금을 계산하는 프로그램을 만드시오\n",
    "# a flat tax rate of 20% 세금율\n",
    "# A $10,000 standard deduction 기본공제\n",
    "\n",
    "# An additional $3,000 deduction for each dependents 부양자에 따른 추가공제"
   ]
  },
  {
   "cell_type": "code",
   "execution_count": 9,
   "id": "46ceb411",
   "metadata": {},
   "outputs": [
    {
     "name": "stdout",
     "output_type": "stream",
     "text": [
      "세금계산 프로그램\n"
     ]
    },
    {
     "name": "stdin",
     "output_type": "stream",
     "text": [
      "Enter the gross income :  20000\n",
      "Enter the number of dependents :  2\n"
     ]
    },
    {
     "name": "stdout",
     "output_type": "stream",
     "text": [
      "The income tax is $ 800.0\n"
     ]
    }
   ],
   "source": [
    "print('세금계산 프로그램')\n",
    "income = int(input('Enter the gross income : '))\n",
    "nd = int(input('Enter the number of dependents : '))\n",
    "tax = (income-10000-nd*3000)*0.2\n",
    "\n",
    "print('The income tax is $', tax)"
   ]
  },
  {
   "cell_type": "code",
   "execution_count": null,
   "id": "9c376cee",
   "metadata": {},
   "outputs": [],
   "source": []
  }
 ],
 "metadata": {
  "kernelspec": {
   "display_name": "Python 3 (ipykernel)",
   "language": "python",
   "name": "python3"
  },
  "language_info": {
   "codemirror_mode": {
    "name": "ipython",
    "version": 3
   },
   "file_extension": ".py",
   "mimetype": "text/x-python",
   "name": "python",
   "nbconvert_exporter": "python",
   "pygments_lexer": "ipython3",
   "version": "3.10.13"
  }
 },
 "nbformat": 4,
 "nbformat_minor": 5
}
