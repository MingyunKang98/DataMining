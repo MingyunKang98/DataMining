{
 "cells": [
  {
   "cell_type": "code",
   "execution_count": 20,
   "id": "7d1089d7-10ed-4f51-97b0-94eca33933f7",
   "metadata": {},
   "outputs": [],
   "source": [
    "thislist =[\"apple\", \"banana\", \"cherry\"]"
   ]
  },
  {
   "cell_type": "code",
   "execution_count": 21,
   "id": "f8cb4130-f544-4e6f-971c-6425646d0ace",
   "metadata": {},
   "outputs": [
    {
     "name": "stdout",
     "output_type": "stream",
     "text": [
      "['apple', 'banana', 'cherry']\n"
     ]
    }
   ],
   "source": [
    "print(thislist)"
   ]
  },
  {
   "cell_type": "code",
   "execution_count": 22,
   "id": "d64f8acf-bf62-4ac4-8999-8acb61705b01",
   "metadata": {},
   "outputs": [
    {
     "name": "stdout",
     "output_type": "stream",
     "text": [
      "첫번째 아이템 :  apple\n"
     ]
    }
   ],
   "source": [
    "print(\"첫번째 아이템 : \", thislist[0])"
   ]
  },
  {
   "cell_type": "code",
   "execution_count": 23,
   "id": "89a1eafc-330e-4875-8fa9-20b93dcaac27",
   "metadata": {},
   "outputs": [],
   "source": [
    "mylist = thislist.copy()"
   ]
  },
  {
   "cell_type": "code",
   "execution_count": 24,
   "id": "bc3a6918-0d7c-4155-a769-74b015a7183d",
   "metadata": {},
   "outputs": [
    {
     "name": "stdout",
     "output_type": "stream",
     "text": [
      "['apple', 'banana', 'cherry']\n"
     ]
    }
   ],
   "source": [
    "print(mylist)"
   ]
  },
  {
   "cell_type": "code",
   "execution_count": 25,
   "id": "a582b579-d5a3-4a96-931c-a00602d3c7e9",
   "metadata": {},
   "outputs": [],
   "source": [
    "mylist.append(\"melon\")"
   ]
  },
  {
   "cell_type": "code",
   "execution_count": 26,
   "id": "6b3311c9-5ef1-4049-8d9f-a70d4652e953",
   "metadata": {},
   "outputs": [
    {
     "name": "stdout",
     "output_type": "stream",
     "text": [
      "['apple', 'banana', 'cherry', 'melon']\n"
     ]
    }
   ],
   "source": [
    "print(mylist)"
   ]
  },
  {
   "cell_type": "code",
   "execution_count": 18,
   "id": "ea630b53-890e-4227-bf7f-d67660799e22",
   "metadata": {},
   "outputs": [],
   "source": [
    "mylist = mylist.pop()"
   ]
  },
  {
   "cell_type": "code",
   "execution_count": 19,
   "id": "00fabd51-48c4-453d-897f-7c1edef7c2d9",
   "metadata": {},
   "outputs": [
    {
     "data": {
      "text/plain": [
       "'melon'"
      ]
     },
     "execution_count": 19,
     "metadata": {},
     "output_type": "execute_result"
    }
   ],
   "source": [
    "mylist"
   ]
  },
  {
   "cell_type": "code",
   "execution_count": null,
   "id": "08f3944c-182c-41c5-a992-49d66476d498",
   "metadata": {},
   "outputs": [],
   "source": []
  }
 ],
 "metadata": {
  "kernelspec": {
   "display_name": "Python 3 (ipykernel)",
   "language": "python",
   "name": "python3"
  },
  "language_info": {
   "codemirror_mode": {
    "name": "ipython",
    "version": 3
   },
   "file_extension": ".py",
   "mimetype": "text/x-python",
   "name": "python",
   "nbconvert_exporter": "python",
   "pygments_lexer": "ipython3",
   "version": "3.10.13"
  }
 },
 "nbformat": 4,
 "nbformat_minor": 5
}
