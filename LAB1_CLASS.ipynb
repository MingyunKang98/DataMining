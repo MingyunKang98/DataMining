{
 "cells": [
  {
   "cell_type": "code",
   "execution_count": 3,
   "id": "8d4ea067-c11e-481f-bba6-999f9a60ee16",
   "metadata": {},
   "outputs": [
    {
     "name": "stdout",
     "output_type": "stream",
     "text": [
      "hello world\n"
     ]
    }
   ],
   "source": [
    "print(\"hello world\")"
   ]
  },
  {
   "cell_type": "code",
   "execution_count": 2,
   "id": "be73fddc-8445-4df0-9e85-c075b7c21753",
   "metadata": {},
   "outputs": [
    {
     "name": "stdin",
     "output_type": "stream",
     "text": [
      "enter your input kang\n"
     ]
    },
    {
     "data": {
      "text/plain": [
       "'kang'"
      ]
     },
     "execution_count": 2,
     "metadata": {},
     "output_type": "execute_result"
    }
   ],
   "source": [
    "input(\"enter your input\")"
   ]
  },
  {
   "cell_type": "code",
   "execution_count": null,
   "id": "32d177b0-d394-48a0-8553-f620dcd016aa",
   "metadata": {},
   "outputs": [],
   "source": []
  },
  {
   "cell_type": "code",
   "execution_count": null,
   "id": "615dcf1f-4bc2-4f1c-932a-e3e019981484",
   "metadata": {},
   "outputs": [],
   "source": []
  },
  {
   "cell_type": "code",
   "execution_count": 4,
   "id": "2c90b1af-5fbe-47e5-8321-597aa5d976fa",
   "metadata": {},
   "outputs": [
    {
     "name": "stdout",
     "output_type": "stream",
     "text": [
      "Twinkle, twinkle, little star.\n"
     ]
    }
   ],
   "source": [
    "print(\"Twinkle, twinkle, little star.\")"
   ]
  },
  {
   "cell_type": "code",
   "execution_count": 5,
   "id": "5f1ff384-9007-4fa4-b7fb-ea27ada99062",
   "metadata": {},
   "outputs": [
    {
     "name": "stdout",
     "output_type": "stream",
     "text": [
      "How I wonder what you are\n",
      "\tUp above the world so high\n",
      "Like a diamond in the sky\n"
     ]
    }
   ],
   "source": [
    "print(\"How I wonder what you are\")\n",
    "print(\"\\tUp above the world so high\")\n",
    "print(\"Like a diamond in the sky\")"
   ]
  },
  {
   "cell_type": "code",
   "execution_count": null,
   "id": "44f8a825-88b5-4ad6-a9e2-506ee13297e1",
   "metadata": {},
   "outputs": [],
   "source": []
  },
  {
   "cell_type": "code",
   "execution_count": null,
   "id": "2eef5a49-f991-4c04-b2a5-752a5eab20e4",
   "metadata": {},
   "outputs": [],
   "source": []
  },
  {
   "cell_type": "code",
   "execution_count": null,
   "id": "83c66882-855e-4c7e-8f3e-fe268cbfbc77",
   "metadata": {},
   "outputs": [],
   "source": []
  },
  {
   "cell_type": "code",
   "execution_count": null,
   "id": "c16315a3-b97f-4a75-8b7d-42344d1c56c7",
   "metadata": {},
   "outputs": [],
   "source": []
  },
  {
   "cell_type": "code",
   "execution_count": null,
   "id": "2bf0dca9-2dc5-44bd-9525-aee6348646a6",
   "metadata": {},
   "outputs": [],
   "source": []
  }
 ],
 "metadata": {
  "kernelspec": {
   "display_name": "Python 3 (ipykernel)",
   "language": "python",
   "name": "python3"
  },
  "language_info": {
   "codemirror_mode": {
    "name": "ipython",
    "version": 3
   },
   "file_extension": ".py",
   "mimetype": "text/x-python",
   "name": "python",
   "nbconvert_exporter": "python",
   "pygments_lexer": "ipython3",
   "version": "3.10.13"
  }
 },
 "nbformat": 4,
 "nbformat_minor": 5
}
